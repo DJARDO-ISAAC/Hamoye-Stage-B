{
 "cells": [
  {
   "cell_type": "code",
   "execution_count": null,
   "id": "b1415e47",
   "metadata": {},
   "outputs": [],
   "source": [
    "
    "import pandas as pd\n",
    "\n",
    "\n",
    "# Remove column name 'data' and 'lights'\n",
    "#Remove column name 'data' and 'lights'\n",
    "import numpy as np\n",
    "df=pd.read_csv('C:\\\\Users\\\\D-IKE\\\\Desktop\\\\HamoyeCODES\\\\energydata_complete.csv')\n",
    "df = pd.DataFrame(df)\n",
    "df.drop(['date', 'lights'], axis=1)\n",
    "\n",
    "#normalising the dataset to a common scale using min max scaler\n",
    "from sklearn.preprocessing import MinMaxScaler\n",
    "scaler = MinMaxScaler()\n",
    "normalised_df = pd.DataFrame(scaler.fit_transform(df), columns=df.columns)\n",
    "features_df = normalised_df.drop(columns=['Appliances'])\n",
    "heating_target = normalised_df['Appliances']\n",
    "\n",
    "#splitting dataset into training and testing dataset.\n",
    "from sklearn.model_selection import train_test_split\n",
    "x_train, x_test, y_train, y_test = train_test_split(features_df, heating_target,\n",
    "test_size=70, random_state=42)\n",
    "\n",
    "from sklearn.linear_model import LinearRegression\n",
    "linear_model = LinearRegression()\n",
    "\n",
    "#fit the model to the training dataset\n",
    "linear_model.fit(x_train, y_train)\n",
    "\n",
    "#obtain predictions\n",
    "predicted_values = linear_model.predict(x_test)"
   ]
  },
  {
   "cell_type": "code",
   "execution_count": null,
   "id": "65950bd5",
   "metadata": {},
   "outputs": [],
   "source": []
  }
 ],
 "metadata": {
  "kernelspec": {
   "display_name": "Python 3 (ipykernel)",
   "language": "python",
   "name": "python3"
  },
  "language_info": {
   "codemirror_mode": {
    "name": "ipython",
    "version": 3
   },
   "file_extension": ".py",
   "mimetype": "text/x-python",
   "name": "python",
   "nbconvert_exporter": "python",
   "pygments_lexer": "ipython3",
   "version": "3.9.12"
  }
 },
 "nbformat": 4,
 "nbformat_minor": 5
}
